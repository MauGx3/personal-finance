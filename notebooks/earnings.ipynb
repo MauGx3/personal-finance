{
 "cells": [
  {
   "cell_type": "code",
   "execution_count": 7,
   "metadata": {},
   "outputs": [],
   "source": [
    "from stockdex import Ticker"
   ]
  },
  {
   "cell_type": "code",
   "execution_count": 22,
   "metadata": {},
   "outputs": [
    {
     "data": {
      "application/vnd.microsoft.datawrangler.viewer.v0+json": {
       "columns": [
        {
         "name": "index",
         "rawType": "object",
         "type": "string"
        },
        {
         "name": "annualCashAndCashEquivalents",
         "rawType": "object",
         "type": "string"
        },
        {
         "name": "annualStockholdersEquity",
         "rawType": "object",
         "type": "string"
        },
        {
         "name": "annualMachineryFurnitureEquipment",
         "rawType": "object",
         "type": "string"
        },
        {
         "name": "annualProperties",
         "rawType": "object",
         "type": "string"
        },
        {
         "name": "annualCommonStockEquity",
         "rawType": "object",
         "type": "string"
        },
        {
         "name": "annualInvestmentsAndAdvances",
         "rawType": "object",
         "type": "string"
        },
        {
         "name": "annualIncomeTaxPayable",
         "rawType": "object",
         "type": "unknown"
        },
        {
         "name": "annualAvailableForSaleSecurities",
         "rawType": "object",
         "type": "string"
        },
        {
         "name": "annualLandAndImprovements",
         "rawType": "object",
         "type": "string"
        },
        {
         "name": "annualTotalTaxPayable",
         "rawType": "object",
         "type": "unknown"
        },
        {
         "name": "annualInvestmentinFinancialAssets",
         "rawType": "object",
         "type": "string"
        },
        {
         "name": "annualOtherEquityAdjustments",
         "rawType": "object",
         "type": "string"
        },
        {
         "name": "annualCurrentDeferredRevenue",
         "rawType": "object",
         "type": "string"
        },
        {
         "name": "annualTotalCapitalization",
         "rawType": "object",
         "type": "string"
        },
        {
         "name": "annualCapitalStock",
         "rawType": "object",
         "type": "string"
        },
        {
         "name": "annualOtherInvestments",
         "rawType": "object",
         "type": "unknown"
        },
        {
         "name": "annualAccountsReceivable",
         "rawType": "object",
         "type": "string"
        },
        {
         "name": "annualShareIssued",
         "rawType": "object",
         "type": "string"
        },
        {
         "name": "annualPayablesAndAccruedExpenses",
         "rawType": "object",
         "type": "string"
        },
        {
         "name": "annualTotalNonCurrentLiabilitiesNetMinorityInterest",
         "rawType": "object",
         "type": "string"
        },
        {
         "name": "annualOtherCurrentBorrowings",
         "rawType": "object",
         "type": "string"
        },
        {
         "name": "annualCashFinancial",
         "rawType": "object",
         "type": "string"
        },
        {
         "name": "annualLongTermDebtAndCapitalLeaseObligation",
         "rawType": "object",
         "type": "string"
        },
        {
         "name": "annualOtherShortTermInvestments",
         "rawType": "object",
         "type": "string"
        },
        {
         "name": "annualCashCashEquivalentsAndShortTermInvestments",
         "rawType": "object",
         "type": "string"
        },
        {
         "name": "annualReceivables",
         "rawType": "object",
         "type": "string"
        },
        {
         "name": "annualCapitalLeaseObligations",
         "rawType": "object",
         "type": "unknown"
        },
        {
         "name": "annualInventory",
         "rawType": "object",
         "type": "string"
        },
        {
         "name": "annualAccumulatedDepreciation",
         "rawType": "object",
         "type": "string"
        },
        {
         "name": "annualCurrentLiabilities",
         "rawType": "object",
         "type": "string"
        },
        {
         "name": "annualNetPPE",
         "rawType": "object",
         "type": "string"
        },
        {
         "name": "annualTotalDebt",
         "rawType": "object",
         "type": "string"
        },
        {
         "name": "annualTangibleBookValue",
         "rawType": "object",
         "type": "string"
        },
        {
         "name": "annualLeases",
         "rawType": "object",
         "type": "string"
        },
        {
         "name": "annualCurrentAssets",
         "rawType": "object",
         "type": "string"
        },
        {
         "name": "annualOtherNonCurrentAssets",
         "rawType": "object",
         "type": "string"
        },
        {
         "name": "annualTreasurySharesNumber",
         "rawType": "object",
         "type": "unknown"
        },
        {
         "name": "annualLongTermCapitalLeaseObligation",
         "rawType": "object",
         "type": "unknown"
        },
        {
         "name": "annualOtherNonCurrentLiabilities",
         "rawType": "object",
         "type": "string"
        },
        {
         "name": "annualOtherCurrentLiabilities",
         "rawType": "object",
         "type": "string"
        },
        {
         "name": "annualCurrentDeferredLiabilities",
         "rawType": "object",
         "type": "string"
        },
        {
         "name": "annualWorkingCapital",
         "rawType": "object",
         "type": "string"
        },
        {
         "name": "annualTotalLiabilitiesNetMinorityInterest",
         "rawType": "object",
         "type": "string"
        },
        {
         "name": "annualTradeandOtherPayablesNonCurrent",
         "rawType": "object",
         "type": "string"
        },
        {
         "name": "annualCurrentDebtAndCapitalLeaseObligation",
         "rawType": "object",
         "type": "string"
        },
        {
         "name": "annualRetainedEarnings",
         "rawType": "object",
         "type": "string"
        },
        {
         "name": "annualCommonStock",
         "rawType": "object",
         "type": "string"
        },
        {
         "name": "annualNonCurrentDeferredTaxesAssets",
         "rawType": "object",
         "type": "unknown"
        },
        {
         "name": "annualNonCurrentDeferredAssets",
         "rawType": "object",
         "type": "unknown"
        },
        {
         "name": "annualOtherProperties",
         "rawType": "object",
         "type": "unknown"
        },
        {
         "name": "annualCurrentCapitalLeaseObligation",
         "rawType": "object",
         "type": "unknown"
        },
        {
         "name": "annualGainsLossesNotAffectingRetainedEarnings",
         "rawType": "object",
         "type": "string"
        },
        {
         "name": "annualTotalEquityGrossMinorityInterest",
         "rawType": "object",
         "type": "string"
        },
        {
         "name": "annualOtherCurrentAssets",
         "rawType": "object",
         "type": "string"
        },
        {
         "name": "annualPayables",
         "rawType": "object",
         "type": "string"
        },
        {
         "name": "annualAccountsPayable",
         "rawType": "object",
         "type": "string"
        },
        {
         "name": "annualCommercialPaper",
         "rawType": "object",
         "type": "string"
        },
        {
         "name": "annualLongTermDebt",
         "rawType": "object",
         "type": "string"
        },
        {
         "name": "annualInvestedCapital",
         "rawType": "object",
         "type": "string"
        },
        {
         "name": "annualCurrentDebt",
         "rawType": "object",
         "type": "string"
        },
        {
         "name": "annualNetTangibleAssets",
         "rawType": "object",
         "type": "string"
        },
        {
         "name": "annualTotalAssets",
         "rawType": "object",
         "type": "string"
        },
        {
         "name": "annualOrdinarySharesNumber",
         "rawType": "object",
         "type": "string"
        },
        {
         "name": "annualOtherReceivables",
         "rawType": "object",
         "type": "string"
        },
        {
         "name": "annualCashEquivalents",
         "rawType": "object",
         "type": "string"
        },
        {
         "name": "annualGrossPPE",
         "rawType": "object",
         "type": "string"
        },
        {
         "name": "annualTotalNonCurrentAssets",
         "rawType": "object",
         "type": "string"
        },
        {
         "name": "annualNetDebt",
         "rawType": "object",
         "type": "string"
        }
       ],
       "conversionMethod": "pd.DataFrame",
       "ref": "3be0c519-46e6-40a8-b067-c30e3c8b814d",
       "rows": [
        [
         "2021-09-30",
         "34.94B",
         "63.09B",
         "78.66B",
         "0.00",
         "63.09B",
         "127.88B",
         null,
         "127.88B",
         "20.04B",
         null,
         "127.88B",
         "163.00M",
         "7.61B",
         "172.20B",
         "57.37B",
         "127.88B",
         "26.28B",
         "16.43B",
         "54.76B",
         "162.43B",
         "9.61B",
         "17.30B",
         "119.38B",
         "27.70B",
         "62.64B",
         "51.51B",
         "11.80B",
         "6.58B",
         "-70.28B",
         "125.48B",
         "49.53B",
         "136.52B",
         "63.09B",
         "11.02B",
         "134.84B",
         "38.76B",
         null,
         "10.28B",
         "18.36B",
         "45.97B",
         "7.61B",
         "9.36B",
         "287.91B",
         "24.69B",
         "17.14B",
         "5.56B",
         "57.37B",
         null,
         null,
         "10.09B",
         "1.53B",
         "163.00M",
         "63.09B",
         "14.11B",
         "54.76B",
         "54.76B",
         "6.00B",
         "109.11B",
         "187.81B",
         "15.61B",
         "63.09B",
         "351.00B",
         "16.43B",
         "25.23B",
         "17.64B",
         "119.81B",
         "216.17B",
         "89.78B"
        ],
        [
         "2022-09-30",
         "23.65B",
         "50.67B",
         "81.06B",
         "0.00",
         "50.67B",
         "120.81B",
         "6.55B",
         "120.81B",
         "22.13B",
         "6.55B",
         "120.81B",
         "-11.11B",
         "7.91B",
         "149.63B",
         "64.85B",
         "120.81B",
         "28.18B",
         "15.94B",
         "70.67B",
         "148.10B",
         "11.13B",
         "18.55B",
         "109.71B",
         "24.66B",
         "48.30B",
         "60.93B",
         "12.41B",
         "4.95B",
         "-72.34B",
         "153.98B",
         "42.12B",
         "132.48B",
         "50.67B",
         "11.27B",
         "135.41B",
         "39.05B",
         null,
         "10.75B",
         "21.74B",
         "52.63B",
         "7.91B",
         "-18.58B",
         "302.08B",
         "16.66B",
         "22.77B",
         "-3.07B",
         "64.85B",
         "15.38B",
         "15.38B",
         "10.42B",
         "1.66B",
         "-11.11B",
         "50.67B",
         "21.22B",
         "70.67B",
         "64.11B",
         "9.98B",
         "98.96B",
         "170.74B",
         "21.11B",
         "50.67B",
         "352.75B",
         "15.94B",
         "32.75B",
         "5.10B",
         "114.46B",
         "217.35B",
         "96.42B"
        ],
        [
         "2023-09-30",
         "29.96B",
         "62.15B",
         "78.31B",
         "0.00",
         "62.15B",
         "100.54B",
         "8.82B",
         "100.54B",
         "23.45B",
         "8.82B",
         "100.54B",
         "-11.45B",
         "8.06B",
         "157.43B",
         "73.81B",
         null,
         "29.51B",
         "15.55B",
         "71.43B",
         "145.13B",
         "9.82B",
         "28.36B",
         "95.28B",
         "31.59B",
         "61.55B",
         "60.98B",
         "12.84B",
         "6.33B",
         "-70.88B",
         "145.31B",
         "43.72B",
         "111.09B",
         "62.15B",
         "12.84B",
         "143.57B",
         "46.91B",
         "0.00",
         "11.27B",
         "34.39B",
         "50.01B",
         "8.06B",
         "-1.74B",
         "290.44B",
         "15.46B",
         "15.81B",
         "-214.00M",
         "73.81B",
         "17.85B",
         "17.85B",
         "10.66B",
         "1.57B",
         "-11.45B",
         "62.15B",
         "14.70B",
         "71.43B",
         "62.61B",
         "5.99B",
         "95.28B",
         "173.23B",
         "15.81B",
         "62.15B",
         "352.58B",
         "15.55B",
         "31.48B",
         "1.61B",
         "114.60B",
         "209.02B",
         "81.12B"
        ],
        [
         "2024-09-30",
         "29.94B",
         "56.95B",
         "80.20B",
         "0.00",
         "56.95B",
         "91.48B",
         "26.60B",
         "91.48B",
         "24.69B",
         "26.60B",
         "91.48B",
         "-7.17B",
         "8.25B",
         "142.70B",
         "83.28B",
         null,
         "33.41B",
         "15.12B",
         "95.56B",
         "131.64B",
         "10.91B",
         "27.20B",
         "85.75B",
         "35.23B",
         "65.17B",
         "66.24B",
         null,
         "7.29B",
         "-73.45B",
         "176.39B",
         "45.68B",
         "106.63B",
         "56.95B",
         "14.23B",
         "152.99B",
         "55.34B",
         null,
         null,
         "36.63B",
         "51.70B",
         "8.25B",
         "-23.41B",
         "308.03B",
         "9.25B",
         "20.88B",
         "-19.15B",
         "83.28B",
         "19.50B",
         "19.50B",
         null,
         null,
         "-7.17B",
         "56.95B",
         "14.29B",
         "95.56B",
         "68.96B",
         "9.97B",
         "85.75B",
         "163.58B",
         "20.88B",
         "56.95B",
         "364.98B",
         "15.12B",
         "32.83B",
         "2.74B",
         "119.13B",
         "211.99B",
         "76.69B"
        ]
       ],
       "shape": {
        "columns": 68,
        "rows": 4
       }
      },
      "text/html": [
       "<div>\n",
       "<style scoped>\n",
       "    .dataframe tbody tr th:only-of-type {\n",
       "        vertical-align: middle;\n",
       "    }\n",
       "\n",
       "    .dataframe tbody tr th {\n",
       "        vertical-align: top;\n",
       "    }\n",
       "\n",
       "    .dataframe thead th {\n",
       "        text-align: right;\n",
       "    }\n",
       "</style>\n",
       "<table border=\"1\" class=\"dataframe\">\n",
       "  <thead>\n",
       "    <tr style=\"text-align: right;\">\n",
       "      <th></th>\n",
       "      <th>annualCashAndCashEquivalents</th>\n",
       "      <th>annualStockholdersEquity</th>\n",
       "      <th>annualMachineryFurnitureEquipment</th>\n",
       "      <th>annualProperties</th>\n",
       "      <th>annualCommonStockEquity</th>\n",
       "      <th>annualInvestmentsAndAdvances</th>\n",
       "      <th>annualIncomeTaxPayable</th>\n",
       "      <th>annualAvailableForSaleSecurities</th>\n",
       "      <th>annualLandAndImprovements</th>\n",
       "      <th>annualTotalTaxPayable</th>\n",
       "      <th>...</th>\n",
       "      <th>annualInvestedCapital</th>\n",
       "      <th>annualCurrentDebt</th>\n",
       "      <th>annualNetTangibleAssets</th>\n",
       "      <th>annualTotalAssets</th>\n",
       "      <th>annualOrdinarySharesNumber</th>\n",
       "      <th>annualOtherReceivables</th>\n",
       "      <th>annualCashEquivalents</th>\n",
       "      <th>annualGrossPPE</th>\n",
       "      <th>annualTotalNonCurrentAssets</th>\n",
       "      <th>annualNetDebt</th>\n",
       "    </tr>\n",
       "  </thead>\n",
       "  <tbody>\n",
       "    <tr>\n",
       "      <th>2021-09-30</th>\n",
       "      <td>34.94B</td>\n",
       "      <td>63.09B</td>\n",
       "      <td>78.66B</td>\n",
       "      <td>0.00</td>\n",
       "      <td>63.09B</td>\n",
       "      <td>127.88B</td>\n",
       "      <td>NaN</td>\n",
       "      <td>127.88B</td>\n",
       "      <td>20.04B</td>\n",
       "      <td>NaN</td>\n",
       "      <td>...</td>\n",
       "      <td>187.81B</td>\n",
       "      <td>15.61B</td>\n",
       "      <td>63.09B</td>\n",
       "      <td>351.00B</td>\n",
       "      <td>16.43B</td>\n",
       "      <td>25.23B</td>\n",
       "      <td>17.64B</td>\n",
       "      <td>119.81B</td>\n",
       "      <td>216.17B</td>\n",
       "      <td>89.78B</td>\n",
       "    </tr>\n",
       "    <tr>\n",
       "      <th>2022-09-30</th>\n",
       "      <td>23.65B</td>\n",
       "      <td>50.67B</td>\n",
       "      <td>81.06B</td>\n",
       "      <td>0.00</td>\n",
       "      <td>50.67B</td>\n",
       "      <td>120.81B</td>\n",
       "      <td>6.55B</td>\n",
       "      <td>120.81B</td>\n",
       "      <td>22.13B</td>\n",
       "      <td>6.55B</td>\n",
       "      <td>...</td>\n",
       "      <td>170.74B</td>\n",
       "      <td>21.11B</td>\n",
       "      <td>50.67B</td>\n",
       "      <td>352.75B</td>\n",
       "      <td>15.94B</td>\n",
       "      <td>32.75B</td>\n",
       "      <td>5.10B</td>\n",
       "      <td>114.46B</td>\n",
       "      <td>217.35B</td>\n",
       "      <td>96.42B</td>\n",
       "    </tr>\n",
       "    <tr>\n",
       "      <th>2023-09-30</th>\n",
       "      <td>29.96B</td>\n",
       "      <td>62.15B</td>\n",
       "      <td>78.31B</td>\n",
       "      <td>0.00</td>\n",
       "      <td>62.15B</td>\n",
       "      <td>100.54B</td>\n",
       "      <td>8.82B</td>\n",
       "      <td>100.54B</td>\n",
       "      <td>23.45B</td>\n",
       "      <td>8.82B</td>\n",
       "      <td>...</td>\n",
       "      <td>173.23B</td>\n",
       "      <td>15.81B</td>\n",
       "      <td>62.15B</td>\n",
       "      <td>352.58B</td>\n",
       "      <td>15.55B</td>\n",
       "      <td>31.48B</td>\n",
       "      <td>1.61B</td>\n",
       "      <td>114.60B</td>\n",
       "      <td>209.02B</td>\n",
       "      <td>81.12B</td>\n",
       "    </tr>\n",
       "    <tr>\n",
       "      <th>2024-09-30</th>\n",
       "      <td>29.94B</td>\n",
       "      <td>56.95B</td>\n",
       "      <td>80.20B</td>\n",
       "      <td>0.00</td>\n",
       "      <td>56.95B</td>\n",
       "      <td>91.48B</td>\n",
       "      <td>26.60B</td>\n",
       "      <td>91.48B</td>\n",
       "      <td>24.69B</td>\n",
       "      <td>26.60B</td>\n",
       "      <td>...</td>\n",
       "      <td>163.58B</td>\n",
       "      <td>20.88B</td>\n",
       "      <td>56.95B</td>\n",
       "      <td>364.98B</td>\n",
       "      <td>15.12B</td>\n",
       "      <td>32.83B</td>\n",
       "      <td>2.74B</td>\n",
       "      <td>119.13B</td>\n",
       "      <td>211.99B</td>\n",
       "      <td>76.69B</td>\n",
       "    </tr>\n",
       "  </tbody>\n",
       "</table>\n",
       "<p>4 rows × 68 columns</p>\n",
       "</div>"
      ],
      "text/plain": [
       "           annualCashAndCashEquivalents annualStockholdersEquity  \\\n",
       "2021-09-30                       34.94B                   63.09B   \n",
       "2022-09-30                       23.65B                   50.67B   \n",
       "2023-09-30                       29.96B                   62.15B   \n",
       "2024-09-30                       29.94B                   56.95B   \n",
       "\n",
       "           annualMachineryFurnitureEquipment annualProperties  \\\n",
       "2021-09-30                            78.66B             0.00   \n",
       "2022-09-30                            81.06B             0.00   \n",
       "2023-09-30                            78.31B             0.00   \n",
       "2024-09-30                            80.20B             0.00   \n",
       "\n",
       "           annualCommonStockEquity annualInvestmentsAndAdvances  \\\n",
       "2021-09-30                  63.09B                      127.88B   \n",
       "2022-09-30                  50.67B                      120.81B   \n",
       "2023-09-30                  62.15B                      100.54B   \n",
       "2024-09-30                  56.95B                       91.48B   \n",
       "\n",
       "           annualIncomeTaxPayable annualAvailableForSaleSecurities  \\\n",
       "2021-09-30                    NaN                          127.88B   \n",
       "2022-09-30                  6.55B                          120.81B   \n",
       "2023-09-30                  8.82B                          100.54B   \n",
       "2024-09-30                 26.60B                           91.48B   \n",
       "\n",
       "           annualLandAndImprovements annualTotalTaxPayable  ...  \\\n",
       "2021-09-30                    20.04B                   NaN  ...   \n",
       "2022-09-30                    22.13B                 6.55B  ...   \n",
       "2023-09-30                    23.45B                 8.82B  ...   \n",
       "2024-09-30                    24.69B                26.60B  ...   \n",
       "\n",
       "           annualInvestedCapital annualCurrentDebt annualNetTangibleAssets  \\\n",
       "2021-09-30               187.81B            15.61B                  63.09B   \n",
       "2022-09-30               170.74B            21.11B                  50.67B   \n",
       "2023-09-30               173.23B            15.81B                  62.15B   \n",
       "2024-09-30               163.58B            20.88B                  56.95B   \n",
       "\n",
       "           annualTotalAssets annualOrdinarySharesNumber  \\\n",
       "2021-09-30           351.00B                     16.43B   \n",
       "2022-09-30           352.75B                     15.94B   \n",
       "2023-09-30           352.58B                     15.55B   \n",
       "2024-09-30           364.98B                     15.12B   \n",
       "\n",
       "           annualOtherReceivables annualCashEquivalents annualGrossPPE  \\\n",
       "2021-09-30                 25.23B                17.64B        119.81B   \n",
       "2022-09-30                 32.75B                 5.10B        114.46B   \n",
       "2023-09-30                 31.48B                 1.61B        114.60B   \n",
       "2024-09-30                 32.83B                 2.74B        119.13B   \n",
       "\n",
       "           annualTotalNonCurrentAssets annualNetDebt  \n",
       "2021-09-30                     216.17B        89.78B  \n",
       "2022-09-30                     217.35B        96.42B  \n",
       "2023-09-30                     209.02B        81.12B  \n",
       "2024-09-30                     211.99B        76.69B  \n",
       "\n",
       "[4 rows x 68 columns]"
      ]
     },
     "execution_count": 22,
     "metadata": {},
     "output_type": "execute_result"
    }
   ],
   "source": [
    "ticker = Ticker(\"AAPL\")\n",
    "ticker.yahoo_api_balance_sheet()"
   ]
  },
  {
   "cell_type": "code",
   "execution_count": 24,
   "metadata": {},
   "outputs": [
    {
     "data": {
      "application/vnd.microsoft.datawrangler.viewer.v0+json": {
       "columns": [
        {
         "name": "index",
         "rawType": "int64",
         "type": "integer"
        },
        {
         "name": "Currency in USD ",
         "rawType": "object",
         "type": "string"
        },
        {
         "name": "Current Qtr. (Mar 2025)",
         "rawType": "object",
         "type": "string"
        },
        {
         "name": "Next Qtr. (Jun 2025)",
         "rawType": "object",
         "type": "string"
        },
        {
         "name": "Current Year (2025)",
         "rawType": "object",
         "type": "string"
        },
        {
         "name": "Next Year (2026)",
         "rawType": "object",
         "type": "string"
        }
       ],
       "conversionMethod": "pd.DataFrame",
       "ref": "cbb3db07-5938-4ece-b441-8fee350a02b6",
       "rows": [
        [
         "0",
         "No. of Analysts",
         "26",
         "25",
         "38",
         "38"
        ],
        [
         "1",
         "Avg. Estimate",
         "1.61",
         "1.49",
         "7.32",
         "8.18"
        ],
        [
         "2",
         "Low Estimate",
         "1.5",
         "1.36",
         "6.93",
         "7.38"
        ],
        [
         "3",
         "High Estimate",
         "1.67",
         "1.57",
         "7.65",
         "9.1"
        ],
        [
         "4",
         "Year Ago EPS",
         "1.53",
         "1.4",
         "6.08",
         "7.32"
        ]
       ],
       "shape": {
        "columns": 5,
        "rows": 5
       }
      },
      "text/html": [
       "<div>\n",
       "<style scoped>\n",
       "    .dataframe tbody tr th:only-of-type {\n",
       "        vertical-align: middle;\n",
       "    }\n",
       "\n",
       "    .dataframe tbody tr th {\n",
       "        vertical-align: top;\n",
       "    }\n",
       "\n",
       "    .dataframe thead th {\n",
       "        text-align: right;\n",
       "    }\n",
       "</style>\n",
       "<table border=\"1\" class=\"dataframe\">\n",
       "  <thead>\n",
       "    <tr style=\"text-align: right;\">\n",
       "      <th></th>\n",
       "      <th>Currency in USD</th>\n",
       "      <th>Current Qtr. (Mar 2025)</th>\n",
       "      <th>Next Qtr. (Jun 2025)</th>\n",
       "      <th>Current Year (2025)</th>\n",
       "      <th>Next Year (2026)</th>\n",
       "    </tr>\n",
       "  </thead>\n",
       "  <tbody>\n",
       "    <tr>\n",
       "      <th>0</th>\n",
       "      <td>No. of Analysts</td>\n",
       "      <td>26</td>\n",
       "      <td>25</td>\n",
       "      <td>38</td>\n",
       "      <td>38</td>\n",
       "    </tr>\n",
       "    <tr>\n",
       "      <th>1</th>\n",
       "      <td>Avg. Estimate</td>\n",
       "      <td>1.61</td>\n",
       "      <td>1.49</td>\n",
       "      <td>7.32</td>\n",
       "      <td>8.18</td>\n",
       "    </tr>\n",
       "    <tr>\n",
       "      <th>2</th>\n",
       "      <td>Low Estimate</td>\n",
       "      <td>1.5</td>\n",
       "      <td>1.36</td>\n",
       "      <td>6.93</td>\n",
       "      <td>7.38</td>\n",
       "    </tr>\n",
       "    <tr>\n",
       "      <th>3</th>\n",
       "      <td>High Estimate</td>\n",
       "      <td>1.67</td>\n",
       "      <td>1.57</td>\n",
       "      <td>7.65</td>\n",
       "      <td>9.1</td>\n",
       "    </tr>\n",
       "    <tr>\n",
       "      <th>4</th>\n",
       "      <td>Year Ago EPS</td>\n",
       "      <td>1.53</td>\n",
       "      <td>1.4</td>\n",
       "      <td>6.08</td>\n",
       "      <td>7.32</td>\n",
       "    </tr>\n",
       "  </tbody>\n",
       "</table>\n",
       "</div>"
      ],
      "text/plain": [
       "  Currency in USD  Current Qtr. (Mar 2025) Next Qtr. (Jun 2025)  \\\n",
       "0  No. of Analysts                      26                   25   \n",
       "1    Avg. Estimate                    1.61                 1.49   \n",
       "2     Low Estimate                     1.5                 1.36   \n",
       "3    High Estimate                    1.67                 1.57   \n",
       "4     Year Ago EPS                    1.53                  1.4   \n",
       "\n",
       "  Current Year (2025) Next Year (2026)  \n",
       "0                  38               38  \n",
       "1                7.32             8.18  \n",
       "2                6.93             7.38  \n",
       "3                7.65              9.1  \n",
       "4                6.08             7.32  "
      ]
     },
     "execution_count": 24,
     "metadata": {},
     "output_type": "execute_result"
    }
   ],
   "source": [
    "ticker.yahoo_web_earnings_estimate"
   ]
  }
 ],
 "metadata": {
  "kernelspec": {
   "display_name": ".venv",
   "language": "python",
   "name": "python3"
  },
  "language_info": {
   "codemirror_mode": {
    "name": "ipython",
    "version": 3
   },
   "file_extension": ".py",
   "mimetype": "text/x-python",
   "name": "python",
   "nbconvert_exporter": "python",
   "pygments_lexer": "ipython3",
   "version": "3.13.2"
  }
 },
 "nbformat": 4,
 "nbformat_minor": 2
}
