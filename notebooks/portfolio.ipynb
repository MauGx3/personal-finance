{
 "cells": [
  {
   "cell_type": "code",
   "execution_count": 3,
   "metadata": {},
   "outputs": [],
   "source": [
    "import json"
   ]
  },
  {
   "cell_type": "code",
   "execution_count": 5,
   "metadata": {},
   "outputs": [],
   "source": [
    "def load_portfolio(file_path: str):\n",
    "    \"\"\"Load portfolio from a JSON file\"\"\"\n",
    "    with open(file_path, encoding=\"utf-8\") as file:\n",
    "        portfolio = json.load(file)\n",
    "        return portfolio"
   ]
  },
  {
   "cell_type": "code",
   "execution_count": 6,
   "metadata": {},
   "outputs": [
    {
     "data": {
      "text/plain": [
       "{'tickers': [{'symbol': 'AAPL',\n",
       "   'name': 'Apple Inc.',\n",
       "   'buyPrice': 150.0,\n",
       "   'quantity': 10},\n",
       "  {'symbol': 'GOOGL',\n",
       "   'name': 'Alphabet Inc.',\n",
       "   'buyPrice': 2800.0,\n",
       "   'quantity': 5}]}"
      ]
     },
     "execution_count": 6,
     "metadata": {},
     "output_type": "execute_result"
    }
   ],
   "source": [
    "load_portfolio(\n",
    "    \"/Users/mgioachini/Documents/GitHub/personal-finance/src/personal_finance/data/portfolio.json\"\n",
    ")"
   ]
  }
 ],
 "metadata": {
  "kernelspec": {
   "display_name": ".venv",
   "language": "python",
   "name": "python3"
  },
  "language_info": {
   "codemirror_mode": {
    "name": "ipython",
    "version": 3
   },
   "file_extension": ".py",
   "mimetype": "text/x-python",
   "name": "python",
   "nbconvert_exporter": "python",
   "pygments_lexer": "ipython3",
   "version": "3.13.2"
  }
 },
 "nbformat": 4,
 "nbformat_minor": 2
}
