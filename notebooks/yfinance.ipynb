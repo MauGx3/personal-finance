{
 "cells": [
  {
   "cell_type": "code",
   "execution_count": 5,
   "metadata": {},
   "outputs": [],
   "source": [
    "import yfinance as yf\n",
    "import json"
   ]
  },
  {
   "cell_type": "code",
   "execution_count": 6,
   "metadata": {},
   "outputs": [
    {
     "name": "stderr",
     "output_type": "stream",
     "text": [
      "[*********************100%***********************]  10 of 10 completed"
     ]
    },
    {
     "name": "stdout",
     "output_type": "stream",
     "text": [
      "Ticker            AAPL        AMZN   B3SA3.SA        GOOG        MSFT    PBR  \\\n",
      "Date                                                                           \n",
      "2025-03-21  218.270004  196.210007  12.496565  166.250000  391.260010  14.16   \n",
      "2025-03-24  220.729996  203.259995  12.337372  169.929993  393.079987  13.97   \n",
      "2025-03-25  223.750000  205.710007  12.327423  172.789993  395.160004  14.27   \n",
      "2025-03-26  221.529999  201.130005  12.380000  167.139999  389.970001  14.33   \n",
      "2025-03-27  223.850006  201.360001  12.390000  164.080002  390.579987  14.39   \n",
      "\n",
      "Ticker       PETR4.SA         SPY        TSLA   VALE  \n",
      "Date                                                  \n",
      "2025-03-21  36.799999  563.979980  248.710007  10.07  \n",
      "2025-03-24  36.750000  574.080017  278.390015   9.94  \n",
      "2025-03-25  37.040001  575.460022  288.140015  10.09  \n",
      "2025-03-26  37.389999  568.590027  272.059998  10.13  \n",
      "2025-03-27  37.669998  567.080017  273.130005  10.17  \n"
     ]
    },
    {
     "name": "stderr",
     "output_type": "stream",
     "text": [
      "\n"
     ]
    }
   ],
   "source": [
    "# Define the tickers\n",
    "tickers = ['TSLA', 'AAPL', 'MSFT', 'AMZN', 'GOOG', 'SPY', 'PETR4.SA', 'PBR', 'VALE', 'B3SA3.SA']\n",
    "\n",
    "# Download stock data for the specified tickers\n",
    "# Using a 5-year period by default, but you can adjust as needed\n",
    "stocks_data = yf.download(tickers, period='5y')\n",
    "\n",
    "# Display the last few rows of the Close price data\n",
    "print(stocks_data['Close'].tail())"
   ]
  },
  {
   "cell_type": "code",
   "execution_count": 8,
   "metadata": {},
   "outputs": [
    {
     "data": {
      "text/plain": [
       "yfinance.Ticker object <TSLA>"
      ]
     },
     "execution_count": 8,
     "metadata": {},
     "output_type": "execute_result"
    }
   ],
   "source": [
    "yf.Ticker('TSLA')"
   ]
  }
 ],
 "metadata": {
  "kernelspec": {
   "display_name": ".venv",
   "language": "python",
   "name": "python3"
  },
  "language_info": {
   "codemirror_mode": {
    "name": "ipython",
    "version": 3
   },
   "file_extension": ".py",
   "mimetype": "text/x-python",
   "name": "python",
   "nbconvert_exporter": "python",
   "pygments_lexer": "ipython3",
   "version": "3.12.9"
  }
 },
 "nbformat": 4,
 "nbformat_minor": 2
}
