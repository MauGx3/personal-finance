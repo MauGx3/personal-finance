{
 "cells": [
  {
   "cell_type": "code",
   "execution_count": 1,
   "metadata": {},
   "outputs": [],
   "source": [
    "import yfinance as yf\n",
    "import json"
   ]
  },
  {
   "cell_type": "code",
   "execution_count": 2,
   "metadata": {},
   "outputs": [
    {
     "name": "stderr",
     "output_type": "stream",
     "text": [
      "/var/folders/vy/6tr9w9yn1r319t2hmjbgdjtm0000gn/T/ipykernel_91084/2289505480.py:6: FutureWarning: YF.download() has changed argument auto_adjust default to True\n",
      "  stocks_data = yf.download(tickers, period='5y')\n",
      "[*********************100%***********************]  10 of 10 completed"
     ]
    },
    {
     "name": "stdout",
     "output_type": "stream",
     "text": [
      "Ticker            AAPL        AMZN  B3SA3.SA        GOOG        MSFT    PBR  \\\n",
      "Date                                                                          \n",
      "2025-08-29  232.139999  229.000000     12.98  213.529999  506.690002  12.40   \n",
      "2025-09-01         NaN         NaN     12.98         NaN         NaN    NaN   \n",
      "2025-09-02  229.720001  225.339996     12.75  211.990005  505.119995  12.41   \n",
      "2025-09-03  238.470001  225.990005     12.95  231.100006  505.350006  12.31   \n",
      "2025-09-04  237.470001  233.925598     13.06  228.699997  506.766815  12.39   \n",
      "\n",
      "Ticker       PETR4.SA         SPY        TSLA    VALE  \n",
      "Date                                                   \n",
      "2025-08-29  31.100000  645.049988  333.869995  10.280  \n",
      "2025-09-01  31.170000         NaN         NaN     NaN  \n",
      "2025-09-02  31.330000  640.270020  329.359985  10.170  \n",
      "2025-09-03  31.059999  643.739990  334.089996  10.210  \n",
      "2025-09-04  31.150000  646.394226  334.399994  10.225  \n"
     ]
    },
    {
     "name": "stderr",
     "output_type": "stream",
     "text": [
      "\n"
     ]
    }
   ],
   "source": [
    "# Define the tickers\n",
    "tickers = ['TSLA', 'AAPL', 'MSFT', 'AMZN', 'GOOG', 'SPY', 'PETR4.SA', 'PBR', 'VALE', 'B3SA3.SA']\n",
    "\n",
    "# Download stock data for the specified tickers\n",
    "# Using a 5-year period by default, but you can adjust as needed\n",
    "stocks_data = yf.download(tickers, period='5y')\n",
    "\n",
    "# Display the last few rows of the Close price data\n",
    "print(stocks_data['Close'].tail())"
   ]
  },
  {
   "cell_type": "code",
   "execution_count": 3,
   "metadata": {},
   "outputs": [
    {
     "data": {
      "text/plain": [
       "yfinance.Ticker object <TSLA>"
      ]
     },
     "execution_count": 3,
     "metadata": {},
     "output_type": "execute_result"
    }
   ],
   "source": [
    "yf.Ticker('TSLA')"
   ]
  }
 ],
 "metadata": {
  "kernelspec": {
   "display_name": ".venv",
   "language": "python",
   "name": "python3"
  },
  "language_info": {
   "codemirror_mode": {
    "name": "ipython",
    "version": 3
   },
   "file_extension": ".py",
   "mimetype": "text/x-python",
   "name": "python",
   "nbconvert_exporter": "python",
   "pygments_lexer": "ipython3",
   "version": "3.13.7"
  }
 },
 "nbformat": 4,
 "nbformat_minor": 2
}
